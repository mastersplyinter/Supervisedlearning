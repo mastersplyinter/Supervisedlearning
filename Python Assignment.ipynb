{
 "cells": [
  {
   "cell_type": "code",
   "execution_count": 4,
   "metadata": {},
   "outputs": [
    {
     "data": {
      "text/plain": [
       "328"
      ]
     },
     "execution_count": 4,
     "metadata": {},
     "output_type": "execute_result"
    }
   ],
   "source": [
    "a= ' I am very keen in building up my career in Data Science, but not sure from where to start. If I search the web it throws me thousands of articles, few are relevant others make me confused, again I come around to the same page. Supervised has provided me a good platform to remove all such qualms which were wrangling in my mind'\n",
    "len(a)"
   ]
  },
  {
   "cell_type": "code",
   "execution_count": 4,
   "metadata": {},
   "outputs": [
    {
     "data": {
      "text/plain": [
       "' i am very keen in building up my career in data science, but not sure from where to start. if i search the web it throws me thousands of articles, few are relevant others make me confused, again i come around to the same page. supervised has provided me a good platform to remove all such qualms which were wrangling in my mind'"
      ]
     },
     "execution_count": 4,
     "metadata": {},
     "output_type": "execute_result"
    }
   ],
   "source": [
    "a.lower()"
   ]
  },
  {
   "cell_type": "code",
   "execution_count": 6,
   "metadata": {},
   "outputs": [
    {
     "data": {
      "text/plain": [
       "' I am very keen in building up my career in Data Science but not sure from where to start If I search the web it throws me thousands of articles few are relevant others make me confused again I come around to the same page Supervised has provided me a good platform to remove all such qualms which were wrangling in my mind'"
      ]
     },
     "execution_count": 6,
     "metadata": {},
     "output_type": "execute_result"
    }
   ],
   "source": [
    "b = a.replace(\",\",\"\")\n",
    "b = b.replace(\".\",\"\")\n",
    "b"
   ]
  },
  {
   "cell_type": "code",
   "execution_count": 7,
   "metadata": {},
   "outputs": [
    {
     "data": {
      "text/plain": [
       "'IamverykeeninbuildingupmycareerinDataSciencebutnotsurefromwheretostartIfIsearchthewebitthrowsmethousandsofarticlesfewarerelevantothersmakemeconfusedagainIcomearoundtothesamepageSupervisedhasprovidedmeagoodplatformtoremoveallsuchqualmswhichwerewranglinginmymind'"
      ]
     },
     "execution_count": 7,
     "metadata": {},
     "output_type": "execute_result"
    }
   ],
   "source": [
    "c = b.replace(\" \",\"\")\n",
    "c"
   ]
  },
  {
   "cell_type": "code",
   "execution_count": 21,
   "metadata": {},
   "outputs": [
    {
     "data": {
      "text/plain": [
       "140704822896368"
      ]
     },
     "execution_count": 21,
     "metadata": {},
     "output_type": "execute_result"
    }
   ],
   "source": [
    "id(b.find(\"Data Science\"))"
   ]
  },
  {
   "cell_type": "code",
   "execution_count": 11,
   "metadata": {},
   "outputs": [
    {
     "name": "stdout",
     "output_type": "stream",
     "text": [
      "Frequency of  I  is 3\n",
      "Frequency of  am  is 1\n",
      "Frequency of  very  is 1\n",
      "Frequency of  keen  is 1\n",
      "Frequency of  in  is 3\n",
      "Frequency of  building  is 1\n",
      "Frequency of  up  is 1\n",
      "Frequency of  my  is 2\n",
      "Frequency of  career  is 1\n",
      "Frequency of  Data  is 1\n",
      "Frequency of  Science  is 1\n",
      "Frequency of  but  is 1\n",
      "Frequency of  not  is 1\n",
      "Frequency of  sure  is 1\n",
      "Frequency of  from  is 1\n",
      "Frequency of  where  is 1\n",
      "Frequency of  to  is 3\n",
      "Frequency of  start  is 1\n",
      "Frequency of  If  is 1\n",
      "Frequency of  search  is 1\n",
      "Frequency of  the  is 2\n",
      "Frequency of  web  is 1\n",
      "Frequency of  it  is 1\n",
      "Frequency of  throws  is 1\n",
      "Frequency of  me  is 3\n",
      "Frequency of  thousands  is 1\n",
      "Frequency of  of  is 1\n",
      "Frequency of  articles  is 1\n",
      "Frequency of  few  is 1\n",
      "Frequency of  are  is 1\n",
      "Frequency of  relevant  is 1\n",
      "Frequency of  others  is 1\n",
      "Frequency of  make  is 1\n",
      "Frequency of  confused  is 1\n",
      "Frequency of  again  is 1\n",
      "Frequency of  come  is 1\n",
      "Frequency of  around  is 1\n",
      "Frequency of  same  is 1\n",
      "Frequency of  page  is 1\n",
      "Frequency of  Supervised  is 1\n",
      "Frequency of  has  is 1\n",
      "Frequency of  provided  is 1\n",
      "Frequency of  a  is 1\n",
      "Frequency of  good  is 1\n",
      "Frequency of  platform  is 1\n",
      "Frequency of  remove  is 1\n",
      "Frequency of  all  is 1\n",
      "Frequency of  such  is 1\n",
      "Frequency of  qualms  is 1\n",
      "Frequency of  which  is 1\n",
      "Frequency of  were  is 1\n",
      "Frequency of  wrangling  is 1\n",
      "Frequency of  mind  is 1\n"
     ]
    }
   ],
   "source": [
    "a1 = b.split()\n",
    "a2 = []\n",
    "for i in a1:\n",
    "    if i not in a2:\n",
    "        a2.append(i)\n",
    "for i in range(0,len(a2)):\n",
    "    print(\"Frequency of \",a2[i],\" is\",a1.count(a2[i]))"
   ]
  },
  {
   "cell_type": "code",
   "execution_count": 27,
   "metadata": {},
   "outputs": [
    {
     "name": "stdout",
     "output_type": "stream",
     "text": [
      "I\n",
      "in\n",
      "my\n",
      "to\n",
      "the\n",
      "me\n"
     ]
    }
   ],
   "source": [
    "a1 = b.split()\n",
    "a2 = []\n",
    "for i in a1:\n",
    "    if i not in a2:\n",
    "        a2.append(i)\n",
    "for i in range(0,len(a2)):\n",
    "    if a1.count(a2[i])>1:\n",
    "        print(a2[i])"
   ]
  },
  {
   "cell_type": "code",
   "execution_count": 28,
   "metadata": {},
   "outputs": [
    {
     "data": {
      "text/plain": [
       "' I am very keen in building up my career in Data Science, but not sure from where to start. If I search the web it throws me thousands of articles, few are relevant others make me confused, again I come around to the same page. Unsupervised has provided me a good platform to remove all such qualms which were wrangling in my mind'"
      ]
     },
     "execution_count": 28,
     "metadata": {},
     "output_type": "execute_result"
    }
   ],
   "source": [
    "c = a.replace(\"Supervised\",\"Unsupervised\")\n",
    "c"
   ]
  },
  {
   "cell_type": "code",
   "execution_count": 5,
   "metadata": {},
   "outputs": [
    {
     "data": {
      "text/plain": [
       "[' I am very keen in building up my career in Data Science, but not sure from where to start',\n",
       " ' If I search the web it throws me thousands of articles, few are relevant others make me confused, again I come around to the same page',\n",
       " ' Supervised has provided me a good platform to remove all such qualms which were wrangling in my mind']"
      ]
     },
     "execution_count": 5,
     "metadata": {},
     "output_type": "execute_result"
    }
   ],
   "source": [
    "a4 = a.split(\".\")\n",
    "a4"
   ]
  },
  {
   "cell_type": "code",
   "execution_count": 8,
   "metadata": {},
   "outputs": [
    {
     "ename": "TypeError",
     "evalue": "string indices must be integers",
     "output_type": "error",
     "traceback": [
      "\u001b[1;31m---------------------------------------------------------------------------\u001b[0m",
      "\u001b[1;31mTypeError\u001b[0m                                 Traceback (most recent call last)",
      "\u001b[1;32m<ipython-input-8-23b94d39e7a8>\u001b[0m in \u001b[0;36m<module>\u001b[1;34m\u001b[0m\n\u001b[1;32m----> 1\u001b[1;33m \u001b[0mc\u001b[0m\u001b[1;33m[\u001b[0m\u001b[1;34m\"a\"\u001b[0m\u001b[1;33m]\u001b[0m\u001b[1;33m\u001b[0m\u001b[1;33m\u001b[0m\u001b[0m\n\u001b[0m",
      "\u001b[1;31mTypeError\u001b[0m: string indices must be integers"
     ]
    }
   ],
   "source": [
    "c[\"a\"]"
   ]
  },
  {
   "cell_type": "code",
   "execution_count": 10,
   "metadata": {},
   "outputs": [
    {
     "data": {
      "text/plain": [
       "22"
      ]
     },
     "execution_count": 10,
     "metadata": {},
     "output_type": "execute_result"
    }
   ],
   "source": [
    "c.count(\"a\")"
   ]
  },
  {
   "cell_type": "code",
   "execution_count": 13,
   "metadata": {},
   "outputs": [
    {
     "name": "stdout",
     "output_type": "stream",
     "text": [
      "Science\n",
      "sure\n",
      "where\n",
      "the\n",
      "me\n",
      "are\n",
      "make\n",
      "come\n",
      "same\n",
      "page\n",
      "remove\n",
      "were\n"
     ]
    }
   ],
   "source": [
    "for i in a2:\n",
    "    if i.endswith('e'):\n",
    "        print(i)"
   ]
  },
  {
   "cell_type": "code",
   "execution_count": 23,
   "metadata": {},
   "outputs": [
    {
     "data": {
      "text/plain": [
       "{'apple': 0.25, 'sugar': 0.5, 'rice': 2.5, 'milk': 2.5, 'egg': 1}"
      ]
     },
     "execution_count": 23,
     "metadata": {},
     "output_type": "execute_result"
    }
   ],
   "source": [
    "purchase = {\"apple\":0.25,\"sugar\":0.5,\"rice\":2.5,\"milk\":2.5,\"egg\":1}\n",
    "purchase"
   ]
  },
  {
   "cell_type": "code",
   "execution_count": 24,
   "metadata": {},
   "outputs": [],
   "source": [
    "purchase[\"aata\"] = 1"
   ]
  },
  {
   "cell_type": "code",
   "execution_count": 25,
   "metadata": {},
   "outputs": [
    {
     "data": {
      "text/plain": [
       "{'apple': 0.25, 'sugar': 0.5, 'rice': 2.5, 'milk': 2.5, 'egg': 1, 'aata': 1}"
      ]
     },
     "execution_count": 25,
     "metadata": {},
     "output_type": "execute_result"
    }
   ],
   "source": [
    "purchase"
   ]
  },
  {
   "cell_type": "code",
   "execution_count": 26,
   "metadata": {},
   "outputs": [
    {
     "data": {
      "text/plain": [
       "{'apple': 0.25, 'sugar': 0.5, 'rice': 1, 'milk': 2.5, 'egg': 1, 'aata': 1}"
      ]
     },
     "execution_count": 26,
     "metadata": {},
     "output_type": "execute_result"
    }
   ],
   "source": [
    "purchase[\"rice\"] = 1\n",
    "purchase"
   ]
  },
  {
   "cell_type": "code",
   "execution_count": 20,
   "metadata": {},
   "outputs": [
    {
     "data": {
      "text/plain": [
       "6"
      ]
     },
     "execution_count": 20,
     "metadata": {},
     "output_type": "execute_result"
    }
   ],
   "source": [
    "len(purchase)"
   ]
  },
  {
   "cell_type": "code",
   "execution_count": 27,
   "metadata": {},
   "outputs": [
    {
     "name": "stdout",
     "output_type": "stream",
     "text": [
      "apple\n",
      "0.25\n",
      "sugar\n",
      "0.5\n",
      "rice\n",
      "1\n",
      "milk\n",
      "2.5\n",
      "egg\n",
      "1\n",
      "aata\n",
      "1\n"
     ]
    }
   ],
   "source": [
    "for keys,values in purchase.items():\n",
    "    print(keys)\n",
    "    print(values)"
   ]
  },
  {
   "cell_type": "code",
   "execution_count": 30,
   "metadata": {},
   "outputs": [],
   "source": [
    "purchase_price = {\"apple\":220,\"sugar\":43,\"rice\":45,\"milk\":30,\"egg\":60,\"aata\":1}"
   ]
  },
  {
   "cell_type": "code",
   "execution_count": 31,
   "metadata": {},
   "outputs": [
    {
     "data": {
      "text/plain": [
       "{'apple': 55.0, 'sugar': 21.5, 'rice': 45, 'milk': 75.0, 'egg': 60, 'aata': 1}"
      ]
     },
     "execution_count": 31,
     "metadata": {},
     "output_type": "execute_result"
    }
   ],
   "source": [
    "{k:purchase[k]*purchase_price[k] for k in purchase}\n",
    "    "
   ]
  },
  {
   "cell_type": "code",
   "execution_count": 1,
   "metadata": {},
   "outputs": [],
   "source": [
    "AI_Companies = ['Amazon','Facebook','HiSilicon','Google','Apple','Microsoft','Sensetime']"
   ]
  },
  {
   "cell_type": "code",
   "execution_count": 2,
   "metadata": {},
   "outputs": [],
   "source": [
    "AI_Companies.sort()"
   ]
  },
  {
   "cell_type": "code",
   "execution_count": 3,
   "metadata": {},
   "outputs": [
    {
     "data": {
      "text/plain": [
       "['Amazon',\n",
       " 'Apple',\n",
       " 'Facebook',\n",
       " 'Google',\n",
       " 'HiSilicon',\n",
       " 'Microsoft',\n",
       " 'Sensetime']"
      ]
     },
     "execution_count": 3,
     "metadata": {},
     "output_type": "execute_result"
    }
   ],
   "source": [
    "AI_Companies"
   ]
  },
  {
   "cell_type": "code",
   "execution_count": 5,
   "metadata": {},
   "outputs": [],
   "source": [
    "AI_Companies.extend(['Nvidia','OpenAI','Qualcom','Reliance'])"
   ]
  },
  {
   "cell_type": "code",
   "execution_count": 6,
   "metadata": {},
   "outputs": [
    {
     "data": {
      "text/plain": [
       "['Amazon',\n",
       " 'Apple',\n",
       " 'Facebook',\n",
       " 'Google',\n",
       " 'HiSilicon',\n",
       " 'Microsoft',\n",
       " 'Sensetime',\n",
       " 'Nvidia',\n",
       " 'OpenAI',\n",
       " 'Qualcom',\n",
       " 'Reliance']"
      ]
     },
     "execution_count": 6,
     "metadata": {},
     "output_type": "execute_result"
    }
   ],
   "source": [
    "AI_Companies"
   ]
  },
  {
   "cell_type": "code",
   "execution_count": 13,
   "metadata": {},
   "outputs": [
    {
     "data": {
      "text/plain": [
       "['Facebook', 'Google', 'Microsoft']"
      ]
     },
     "execution_count": 13,
     "metadata": {},
     "output_type": "execute_result"
    }
   ],
   "source": [
    "AI_Companies1 = [2,3,5]\n",
    "[AI_Companies[i] for i in AI_Companies1]"
   ]
  },
  {
   "cell_type": "code",
   "execution_count": null,
   "metadata": {},
   "outputs": [],
   "source": []
  },
  {
   "cell_type": "code",
   "execution_count": null,
   "metadata": {},
   "outputs": [],
   "source": []
  }
 ],
 "metadata": {
  "kernelspec": {
   "display_name": "Python 3",
   "language": "python",
   "name": "python3"
  },
  "language_info": {
   "codemirror_mode": {
    "name": "ipython",
    "version": 3
   },
   "file_extension": ".py",
   "mimetype": "text/x-python",
   "name": "python",
   "nbconvert_exporter": "python",
   "pygments_lexer": "ipython3",
   "version": "3.7.7"
  }
 },
 "nbformat": 4,
 "nbformat_minor": 4
}
